{
 "cells": [
  {
   "cell_type": "code",
   "execution_count": 5,
   "id": "a9390d80-89f9-4746-a975-d43cd259653e",
   "metadata": {},
   "outputs": [
    {
     "name": "stdout",
     "output_type": "stream",
     "text": [
      "Predicting binary classification for test data...\n",
      "Predicting multi-class classification for test data...\n",
      "Predictions for test dataset saved.\n"
     ]
    }
   ],
   "source": [
    "import numpy as np\n",
    "import pandas as pd\n",
    "from neural_network import NeuralNetwork\n",
    "\n",
    "# Load and preprocess test data\n",
    "file_path_test = \"D:/machine learning library/data/kk_test.csv\"\n",
    "test_data = pd.read_csv(file_path_test)\n",
    "\n",
    "test_data = test_data.drop(index=0)  \n",
    "test_data = test_data.iloc[:, 1:]   \n",
    "\n",
    "# Convert data to float32\n",
    "test_data = test_data.astype('float32')\n",
    "test_features = test_data.iloc[:, :].values  # Adjust this based on how many columns are needed for features\n",
    "\n",
    "# Load the trained model parameters (assumes you have already saved them)\n",
    "def load_model(nn, prefix):\n",
    "    \"\"\"Load model parameters from files.\"\"\"\n",
    "    nn.W1 = np.load(f\"{prefix}_W1.npy\")\n",
    "    nn.b1 = np.load(f\"{prefix}_b1.npy\")\n",
    "    nn.W2 = np.load(f\"{prefix}_W2.npy\")\n",
    "    nn.b2 = np.load(f\"{prefix}_b2.npy\")\n",
    "\n",
    "# Binary Classification Model\n",
    "nn_binary = NeuralNetwork(\n",
    "    input_size=test_features.shape[1],\n",
    "    hidden_size=64,\n",
    "    output_size=1,\n",
    "    activation='relu',\n",
    "    learning_rate=0.001,\n",
    "    epochs=0,  # No training required\n",
    "    batch_size=64\n",
    ")\n",
    "\n",
    "# Load binary model parameters\n",
    "load_model(nn_binary, \"binary_model\")\n",
    "\n",
    "# Predict binary classification values\n",
    "print(\"Predicting binary classification for test data...\")\n",
    "binary_test_predictions = nn_binary.predict(test_features)\n",
    "\n",
    "# Save binary test predictions to file\n",
    "np.save(r\"D:/my_models/binary_test_predictions.npy\", binary_test_predictions)\n",
    "\n",
    "# Multi-Class Classification Model\n",
    "nn_classes = NeuralNetwork(\n",
    "    input_size=test_features.shape[1],\n",
    "    hidden_size=64,\n",
    "    output_size=10,  # Adjust this to match the number of output classes\n",
    "    activation='relu',\n",
    "    learning_rate=0.001,\n",
    "    epochs=0,  # No training required\n",
    "    batch_size=64\n",
    ")\n",
    "\n",
    "# Load multi-class model parameters\n",
    "load_model(nn_classes, \"multi_class_model\")\n",
    "\n",
    "# Predict multi-class classification values\n",
    "print(\"Predicting multi-class classification for test data...\")\n",
    "class_test_predictions = nn_classes.predict(test_features)\n",
    "\n",
    "# Save multi-class test predictions to file\n",
    "np.save(r\"D:/my_models/multi_class_test_predictions.npy\", class_test_predictions)\n",
    "\n",
    "print(\"Predictions for test dataset saved.\")\n",
    "\n"
   ]
  },
  {
   "cell_type": "code",
   "execution_count": null,
   "id": "c834ae91-5639-42ff-adaa-06d2c807b202",
   "metadata": {},
   "outputs": [],
   "source": []
  }
 ],
 "metadata": {
  "kernelspec": {
   "display_name": "Python 3 (ipykernel)",
   "language": "python",
   "name": "python3"
  },
  "language_info": {
   "codemirror_mode": {
    "name": "ipython",
    "version": 3
   },
   "file_extension": ".py",
   "mimetype": "text/x-python",
   "name": "python",
   "nbconvert_exporter": "python",
   "pygments_lexer": "ipython3",
   "version": "3.9.1"
  }
 },
 "nbformat": 4,
 "nbformat_minor": 5
}
