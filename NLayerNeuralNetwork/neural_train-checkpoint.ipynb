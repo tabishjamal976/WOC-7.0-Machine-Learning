{
 "cells": [
  {
   "cell_type": "code",
   "execution_count": 1,
   "id": "2aba324c-a434-47a6-bdd6-880eb6916ace",
   "metadata": {},
   "outputs": [
    {
     "name": "stdout",
     "output_type": "stream",
     "text": [
      "Training binary classification model...\n"
     ]
    },
    {
     "name": "stderr",
     "output_type": "stream",
     "text": [
      "D:\\machine learning library\\neural_network\\neural_network.py:27: RuntimeWarning: overflow encountered in exp\n",
      "  return 1 / (1 + np.exp(-x))\n"
     ]
    },
    {
     "name": "stdout",
     "output_type": "stream",
     "text": [
      "Epoch 0/1000, Loss: 0.3703\n",
      "Epoch 100/1000, Loss: 0.1594\n",
      "Epoch 200/1000, Loss: 0.1257\n",
      "Epoch 300/1000, Loss: 0.2758\n",
      "Epoch 400/1000, Loss: 0.1910\n",
      "Epoch 500/1000, Loss: 0.1358\n",
      "Epoch 600/1000, Loss: 0.1431\n",
      "Epoch 700/1000, Loss: 0.1095\n",
      "Epoch 800/1000, Loss: 0.2527\n",
      "Epoch 900/1000, Loss: 0.1820\n",
      "Binary F1: 0.8435, Accuracy: 84.38%\n",
      "Training multi-class classification model...\n",
      "Epoch 0/1000, Loss: 2.3125\n",
      "Epoch 100/1000, Loss: 1.7652\n",
      "Epoch 200/1000, Loss: 1.5764\n",
      "Epoch 300/1000, Loss: 1.5190\n",
      "Epoch 400/1000, Loss: 1.5765\n",
      "Epoch 500/1000, Loss: 1.5627\n",
      "Epoch 600/1000, Loss: 1.5281\n",
      "Epoch 700/1000, Loss: 1.4881\n",
      "Epoch 800/1000, Loss: 1.4905\n",
      "Epoch 900/1000, Loss: 1.5752\n",
      "Multi-class F1: 0.4724, Accuracy: 48.03%\n"
     ]
    }
   ],
   "source": [
    "import numpy as np\n",
    "import pandas as pd\n",
    "from neural_network import NeuralNetwork\n",
    "\n",
    "def save_model(nn, prefix):\n",
    "    \"\"\"Save model parameters to files.\"\"\"\n",
    "    np.save(f\"{prefix}_W1.npy\", nn.W1)\n",
    "    np.save(f\"{prefix}_b1.npy\", nn.b1)\n",
    "    np.save(f\"{prefix}_W2.npy\", nn.W2)\n",
    "    np.save(f\"{prefix}_b2.npy\", nn.b2)\n",
    "\n",
    "def load_model(nn, prefix):\n",
    "    \"\"\"Load model parameters from files.\"\"\"\n",
    "    nn.W1 = np.load(f\"{prefix}_W1.npy\")\n",
    "    nn.b1 = np.load(f\"{prefix}_b1.npy\")\n",
    "    nn.W2 = np.load(f\"{prefix}_W2.npy\")\n",
    "    nn.b2 = np.load(f\"{prefix}_b2.npy\")\n",
    "\n",
    "# Load and preprocess data\n",
    "file_path = \"D:/machine learning library/data/kk_train.csv\"\n",
    "data = pd.read_csv(file_path)\n",
    "\n",
    "# Convert data to float32\n",
    "data = data.iloc[1:, 1:].astype('float32')\n",
    "features = data.iloc[:, :-2].values\n",
    "binary_output = data.iloc[:, -2].values.reshape(-1, 1)\n",
    "class_output = pd.get_dummies(data.iloc[:, -1].astype(int)).values\n",
    "\n",
    "# Binary Classification Model\n",
    "nn_binary = NeuralNetwork(\n",
    "    input_size=features.shape[1],\n",
    "    hidden_size=64,\n",
    "    output_size=1,\n",
    "    activation='relu',\n",
    "    learning_rate=0.001,\n",
    "    epochs=1000,\n",
    "    batch_size=64\n",
    ")\n",
    "\n",
    "print(\"Training binary classification model...\")\n",
    "nn_binary.fit(features, binary_output)\n",
    "binary_predictions = nn_binary.predict(features)\n",
    "binary_f1 = nn_binary.calculate_f1(binary_output, binary_predictions)\n",
    "binary_accuracy = np.mean(binary_predictions == binary_output)\n",
    "print(f\"Binary F1: {binary_f1:.4f}, Accuracy: {binary_accuracy * 100:.2f}%\")\n",
    "\n",
    "# Save binary model parameters\n",
    "save_model(nn_binary, \"binary_model\")\n",
    "\n",
    "# Multi-Class Classification Model\n",
    "nn_classes = NeuralNetwork(\n",
    "    input_size=features.shape[1],\n",
    "    hidden_size=64,\n",
    "    output_size=class_output.shape[1],\n",
    "    activation='relu',\n",
    "    learning_rate=0.001,\n",
    "    epochs=1000,\n",
    "    batch_size=64\n",
    ")\n",
    "\n",
    "print(\"Training multi-class classification model...\")\n",
    "nn_classes.fit(features, class_output)\n",
    "class_predictions = nn_classes.predict(features)\n",
    "class_f1 = nn_classes.calculate_f1(class_output, class_predictions)\n",
    "class_accuracy = np.mean(np.argmax(class_output, axis=1) == class_predictions)\n",
    "print(f\"Multi-class F1: {class_f1:.4f}, Accuracy: {class_accuracy * 100:.2f}%\")\n",
    "\n",
    "# Save multi-class model parameters\n",
    "save_model(nn_classes, \"multi_class_model\")\n"
   ]
  },
  {
   "cell_type": "code",
   "execution_count": null,
   "id": "e5044418-df63-4aca-8c96-72668b8f337a",
   "metadata": {},
   "outputs": [],
   "source": []
  }
 ],
 "metadata": {
  "kernelspec": {
   "display_name": "Python 3 (ipykernel)",
   "language": "python",
   "name": "python3"
  },
  "language_info": {
   "codemirror_mode": {
    "name": "ipython",
    "version": 3
   },
   "file_extension": ".py",
   "mimetype": "text/x-python",
   "name": "python",
   "nbconvert_exporter": "python",
   "pygments_lexer": "ipython3",
   "version": "3.9.1"
  }
 },
 "nbformat": 4,
 "nbformat_minor": 5
}
